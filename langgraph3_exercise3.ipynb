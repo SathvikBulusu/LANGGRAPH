{
 "cells": [
  {
   "cell_type": "markdown",
   "metadata": {},
   "source": [
    "## Build 3 nodes in sequences , name , age , list of skills , \n",
    "\n",
    "### first node should personalise the name field with a greeting \n",
    "\n",
    "### decribe the user's age \n",
    "\n",
    "### lists the user's skills in a formatted string \n",
    "\n",
    "### the final output of result should be combined message  "
   ]
  },
  {
   "cell_type": "code",
   "execution_count": 1,
   "metadata": {},
   "outputs": [],
   "source": [
    "from typing import TypedDict , List \n",
    "from langgraph.graph import StateGraph "
   ]
  },
  {
   "cell_type": "code",
   "execution_count": 19,
   "metadata": {},
   "outputs": [],
   "source": [
    "class AgentMultiState(TypedDict) :\n",
    "    name : str \n",
    "    age : str \n",
    "    skills : str\n",
    "    final : str \n"
   ]
  },
  {
   "cell_type": "code",
   "execution_count": 41,
   "metadata": {},
   "outputs": [],
   "source": [
    "def name_node(state : AgentMultiState) -> AgentMultiState:\n",
    "    \"\"\" This node defines the name and greets the user in order to get into the system \"\"\"\n",
    "    \n",
    "    state['final'] = f'{state[\"name\"]} ! , welcome to august os '\n",
    "\n",
    "    return state"
   ]
  },
  {
   "cell_type": "code",
   "execution_count": 42,
   "metadata": {},
   "outputs": [],
   "source": [
    "def age_node(state : AgentMultiState) -> AgentMultiState:\n",
    "    \"\"\" This node defines the name and greets the user in order to get into the system and adds the age of that user \"\"\"\n",
    "    \n",
    "    state[\"final\"] = f'{state[\"final\"]}' + f'you are { state[\"age\"]} years old! '\n",
    "\n",
    "    return state "
   ]
  },
  {
   "cell_type": "code",
   "execution_count": 43,
   "metadata": {},
   "outputs": [],
   "source": [
    "def skills_node(state : AgentMultiState) -> AgentMultiState:\n",
    "    \"\"\" This node defines the name and greets the user in order to get into the system and adds age and skills \"\"\"\n",
    "    \n",
    "    state[\"final\"] = f'{state[\"final\"]}' + f'you have skills in {state[\"skills\"]}'\n",
    "\n",
    "\n",
    "    return state "
   ]
  },
  {
   "cell_type": "code",
   "execution_count": 44,
   "metadata": {},
   "outputs": [],
   "source": [
    "graph = StateGraph(AgentMultiState)\n",
    "\n",
    "graph.add_node(\"name asked\" , name_node)\n",
    "\n",
    "graph.add_node(\"age asked\", age_node)\n",
    "\n",
    "graph.add_node(\"skills asked\", skills_node)\n",
    "\n",
    "graph.set_entry_point(\"name asked\")\n",
    "\n",
    "graph.add_edge(\"name asked\",\"age asked\")\n",
    "\n",
    "graph.add_edge(\"age asked\",\"skills asked\")\n",
    "\n",
    "graph.set_finish_point(\"skills asked\")\n",
    "\n",
    "app = graph.compile()"
   ]
  },
  {
   "cell_type": "code",
   "execution_count": 45,
   "metadata": {},
   "outputs": [
    {
     "data": {
      "image/png": "[encoded data removed]",
      "text/plain": [
       "<IPython.core.display.Image object>"
      ]
     },
     "metadata": {},
     "output_type": "display_data"
    }
   ],
   "source": [
    "from IPython.display import display , Image\n",
    "\n",
    "display(Image(app.get_graph().draw_mermaid_png()))"
   ]
  },
  {
   "cell_type": "code",
   "execution_count": 46,
   "metadata": {},
   "outputs": [
    {
     "name": "stdout",
     "output_type": "stream",
     "text": [
      "august ! , welcome to august os you are 21 years old! you have skills in  python , sql , excel , ml , data analytics \n"
     ]
    }
   ],
   "source": [
    "answer = app.invoke({\"name\" : \"august\" , \"age\" : 21 , \"skills\" : \" python , sql , excel , ml , data analytics \" })\n",
    "\n",
    "print ( answer['final'])"
   ]
  },
  {
   "cell_type": "markdown",
   "metadata": {},
   "source": [
    "### made a mistake here which is i forgot to actually return state and yeah i am pretty much am able to make sure that the agent is able to bring back what has been asked in the exercise\n"
   ]
  },
  {
   "cell_type": "code",
   "execution_count": null,
   "metadata": {},
   "outputs": [],
   "source": []
  }
 ],
 "metadata": {
  "kernelspec": {
   "display_name": "Python 3",
   "language": "python",
   "name": "python3"
  },
  "language_info": {
   "codemirror_mode": {
    "name": "ipython",
    "version": 3
   },
   "file_extension": ".py",
   "mimetype": "text/x-python",
   "name": "python",
   "nbconvert_exporter": "python",
   "pygments_lexer": "ipython3",
   "version": "3.11.8"
  }
 },
 "nbformat": 4,
 "nbformat_minor": 2
}
