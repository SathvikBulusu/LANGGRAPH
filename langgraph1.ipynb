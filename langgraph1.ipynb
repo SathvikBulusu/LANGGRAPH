{
 "cells": [
  {
   "cell_type": "markdown",
   "metadata": {},
   "source": [
    "# Type Annotations \n",
    "\n",
    "## dictionaries = data structures in python { \"name \": \"avengers \", \"year\":2019} allows for efficient data retrival based on unique keys but theres a problem with dictionaries which is it doesnt check if the data is correct type or structure \n",
    "\n",
    "here comes \n",
    "\n",
    "## Typed Dictionaries  = we explicitly define what the data structures are reducing runtime errors , this in fact makes debugging easier and makes code understandable\n",
    "\n",
    "example :- \n",
    "\n",
    "from typing import TypedDict \n",
    "\n",
    "class Movie(TypedDict):\n",
    "    name: str \n",
    "    year : int \n",
    "\n",
    "movie = Movie(name=\"avengers\", year = 2019)\n",
    "\n",
    "\n",
    "## Union : union lets you say that a value can be more than one type , flexible and easy to code , type safety as it can provide hints to help catch incorrect usage \n",
    "\n",
    "from typing import Union \n",
    "\n",
    "def square ( x: Union[int,float])-> float;\n",
    "    return x*x  \n",
    "\n",
    "\n",
    "so here x can be both int and float \n",
    "\n",
    "## optional data type annotation \n",
    "\n",
    "from typing import Optional \n",
    "\n",
    "def nice(name:Optional[str])-> None:\n",
    "    ##optional[str] with optional it could be str / None - it cant be int , bool \n",
    "    if name is None : \n",
    "        print(\"hello random \")\n",
    "\n",
    "    else: \n",
    "        print (f\"hey there {name}!\")\n",
    "\n",
    "\n",
    "## Any Data type Annotation - could be any data structure \n",
    "\n",
    "def print_value (x:any ) : \n",
    "    print ( x ) \n",
    "\n",
    "print value ( \"i am batman \")\n",
    "\n",
    " \n",
    "# lambda Function : shortcut to writing small functions \n",
    "\n",
    "square = lambda x:x*x \n",
    "\n",
    "nums = [1,2,3,4]\n",
    "\n",
    "squares = list ( map (lambda x:x*x , nums ))\n",
    "\n",
    "\n",
    "\n",
    "\n"
   ]
  },
  {
   "cell_type": "markdown",
   "metadata": {},
   "source": [
    "# Elements In Langgraph \n",
    "\n",
    "\n",
    "## 0. Start \n",
    "\n",
    "### this is a node that is a virtual entry point in langgraph marking where the workflow begins , it doesnt perform but serves as designated starting position for graph's execution  \n",
    "\n",
    "\n",
    "## 1. State :\n",
    "\n",
    "### the state is a shared data structure that holds current information or context of entire application , simply put it is like application's memory which is keeping track of variables , data that nodes can acess and modify as they execute.  state shows us updated context of entire application\n",
    "\n",
    "## 2. Nodes :\n",
    "\n",
    "### nodes are individual functions or operations that perform specific tasks within graph - here each node recieves input procesess it and produces an output or an updated state  \n",
    "\n",
    "### analogy - assembly line stations each station does one job , attach a part , paint it m inspect it , so on meaning to say that each node is absolutely like a individual operations that perform specific tasks \n",
    "\n",
    "\n",
    "## 3. Graph \n",
    "\n",
    "### Graph is overarching structure that maps out how different tasks ( nodes ) are connected and executed , it visually represents the workflow , showing sequence and conditional paths between barious operations \n",
    "\n",
    "## 4. Edges \n",
    "\n",
    "### Edges are connections between nodes that determines the flow of execution , they tell us which node should be executed next after current one completes its task \n",
    "\n",
    "### conditional Edges :- specialised connections that decide the next node to execute based on specific conditions or logic applied to current state   \n",
    "\n",
    "\n",
    "## 5. End \n",
    "\n",
    "### end node signifies the conclusion of the workflow in langgraph \n",
    "\n",
    "\n",
    "\n",
    "## Tools  \n",
    "\n",
    "### specialised functions that nodes can utilise to perform specific tasks such as fetching data from an api , they enhance capabilities of nodes , tools are functionalities used within nodes and nodes are part of graph  \n",
    "\n",
    "\n",
    "## Tool Node \n",
    "\n",
    "### special node whose job is to run a tool , it connects tool's output back into state so other nodes can use that information \n",
    "\n",
    "\n",
    "\n",
    "## StateGraph **Very Important**\n",
    "\n",
    "### a stategraph is a class in langgraph used to build and compile graph structure , it maanges nodes , edges and overall state , ensuring workflow operates in a unified way and data flows correctly between components   simply put its like a blueprint for a house that outlines the design and connections of buidling , a stategraph defines structure and flow of the workflow\n",
    "\n",
    "\n",
    "## Runnable \n",
    "\n",
    "### a runnable in lg is a standardized executable component that performs a specific task within an ai workflow , serves as a fundamental buidling block, allowing for us to create modular systems , runnable can build sophisticated ai workflows \n",
    "\n",
    "\n",
    " "
   ]
  },
  {
   "cell_type": "markdown",
   "metadata": {},
   "source": [
    "# Messages in Langgraph \n",
    "\n",
    "# 1. Human Message : - requests input from a user  \n",
    "\n",
    "# 2. System Message :- used to providing instructions or context to model \n",
    "\n",
    "# 3. Function Message :- Represents result of a function call \n",
    "\n",
    "# 4. AI Message :- Represents Responses generated by ai models \n",
    "\n",
    "# 5. Tool Message :- Similar to function message but specific to tool usage  "
   ]
  },
  {
   "cell_type": "code",
   "execution_count": 3,
   "metadata": {},
   "outputs": [],
   "source": [
    "from typing import Dict, TypedDict \n",
    "from langgraph.graph import StateGraph"
   ]
  },
  {
   "cell_type": "code",
   "execution_count": 4,
   "metadata": {},
   "outputs": [],
   "source": [
    "class AgentState(TypedDict):\n",
    "    message:str \n",
    "\n",
    "def greeting_node(state : AgentState) -> AgentState: \n",
    "    \"\"\" simple node that adds a greeting message to the state\"\"\"\n",
    "\n",
    "    state['message'] = \"hey \"+ state[\"message\"] + \",  how's your day doing ?\"\n",
    "\n",
    "    return state "
   ]
  },
  {
   "cell_type": "code",
   "execution_count": 5,
   "metadata": {},
   "outputs": [],
   "source": [
    "graph = StateGraph(AgentState) \n",
    "\n",
    "graph.add_node(\"greeter\", greeting_node)\n",
    "\n",
    "graph.set_entry_point(\"greeter\")\n",
    "graph.set_finish_point(\"greeter\")\n",
    "\n",
    "app = graph.compile() #if it compiles , there might be logical errors  "
   ]
  },
  {
   "cell_type": "code",
   "execution_count": 6,
   "metadata": {},
   "outputs": [
    {
     "data": {
      "image/png": "[encoded data removed]",
      "text/plain": [
       "<IPython.core.display.Image object>"
      ]
     },
     "metadata": {},
     "output_type": "display_data"
    }
   ],
   "source": [
    "from IPython.display import Image, display \n",
    "display(Image(app.get_graph().draw_mermaid_png()))"
   ]
  },
  {
   "cell_type": "code",
   "execution_count": 7,
   "metadata": {},
   "outputs": [
    {
     "data": {
      "text/plain": [
       "\"hey bob,  how's your day doing ?\""
      ]
     },
     "execution_count": 7,
     "metadata": {},
     "output_type": "execute_result"
    }
   ],
   "source": [
    " result = app.invoke({\"message\": \"bob\"})\n",
    "\n",
    " result[\"message\"]"
   ]
  },
  {
   "cell_type": "code",
   "execution_count": 8,
   "metadata": {},
   "outputs": [],
   "source": [
    " #june 17th \n",
    " "
   ]
  },
  {
   "cell_type": "code",
   "execution_count": 17,
   "metadata": {},
   "outputs": [],
   "source": [
    "class Agentstature(TypedDict):\n",
    "    name:str \n",
    "\n",
    "def name_node(state: Agentstature) -> Agentstature:\n",
    "    \"\"\" this is a node that gives compliments to the person \"\"\"\n",
    "    \n",
    "    state[\"name\"]= state[\"name\"]+ \" you are doing an incredible job by learning langgraph\" \n",
    "\n",
    "    return state \n",
    "\n",
    "\n"
   ]
  },
  {
   "cell_type": "code",
   "execution_count": 18,
   "metadata": {},
   "outputs": [],
   "source": [
    "graph1 = StateGraph(Agentstature)\n",
    "\n",
    "graph1.add_node(\"nameboi\", name_node)\n",
    "\n",
    "graph1.set_entry_point(\"nameboi\")\n",
    "graph1.set_finish_point(\"nameboi\")\n",
    "\n",
    "app = graph1.compile()\n"
   ]
  },
  {
   "cell_type": "code",
   "execution_count": 19,
   "metadata": {},
   "outputs": [
    {
     "data": {
      "text/plain": [
       "'Sathvik you are doing an incredible job by learning langgraph'"
      ]
     },
     "execution_count": 19,
     "metadata": {},
     "output_type": "execute_result"
    }
   ],
   "source": [
    "result1 = app.invoke ({\"name\": \"Sathvik\"})\n",
    "\n",
    "result1[\"name\"]"
   ]
  },
  {
   "cell_type": "code",
   "execution_count": null,
   "metadata": {},
   "outputs": [],
   "source": []
  }
 ],
 "metadata": {
  "kernelspec": {
   "display_name": "Python 3",
   "language": "python",
   "name": "python3"
  },
  "language_info": {
   "codemirror_mode": {
    "name": "ipython",
    "version": 3
   },
   "file_extension": ".py",
   "mimetype": "text/x-python",
   "name": "python",
   "nbconvert_exporter": "python",
   "pygments_lexer": "ipython3",
   "version": "3.11.8"
  }
 },
 "nbformat": 4,
 "nbformat_minor": 2
}
