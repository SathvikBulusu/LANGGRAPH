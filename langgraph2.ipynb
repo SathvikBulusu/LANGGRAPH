{
 "cells": [
  {
   "cell_type": "markdown",
   "metadata": {},
   "source": [
    "## June 17th \n",
    "\n",
    "### Today i am going to dive into taking multiple inputs through langraph using list , dictonaries "
   ]
  },
  {
   "cell_type": "code",
   "execution_count": 1,
   "metadata": {},
   "outputs": [],
   "source": [
    "from typing import TypedDict, List \n",
    "from langgraph.graph import StateGraph \n"
   ]
  },
  {
   "cell_type": "code",
   "execution_count": 2,
   "metadata": {},
   "outputs": [],
   "source": [
    "class multiagentstate(TypedDict):\n",
    "    values:List[int]\n",
    "    name: str \n",
    "    result : str # here we handling 3 diff datatype structures "
   ]
  },
  {
   "cell_type": "code",
   "execution_count": 25,
   "metadata": {},
   "outputs": [],
   "source": [
    "def process_values(state: multiagentstate) -> multiagentstate:\n",
    "    \"\"\" this handles different data structures \"\"\"\n",
    "\n",
    "    print(state)\n",
    "    state[\"result\"] = f'Hey {state[\"name\"]}! here is your sum = {sum(state[\"values\"])}'\n",
    "    print(state)\n",
    "    return state \n",
    "    "
   ]
  },
  {
   "cell_type": "code",
   "execution_count": 26,
   "metadata": {},
   "outputs": [],
   "source": [
    "graph = StateGraph(multiagentstate)\n",
    "\n",
    "graph.add_node(\"multiprocessor\",process_values)\n",
    "\n",
    "graph.set_entry_point(\"multiprocessor\")\n",
    "\n",
    "graph.set_finish_point(\"multiprocessor\")\n",
    "\n",
    "app = graph.compile()"
   ]
  },
  {
   "cell_type": "code",
   "execution_count": 27,
   "metadata": {},
   "outputs": [
    {
     "data": {
      "image/png": "[encoded data removed]",
      "text/plain": [
       "<IPython.core.display.Image object>"
      ]
     },
     "metadata": {},
     "output_type": "display_data"
    }
   ],
   "source": [
    "from IPython.display import display,Image\n",
    "\n",
    "display(Image(app.get_graph().draw_mermaid_png()))\n"
   ]
  },
  {
   "cell_type": "code",
   "execution_count": 29,
   "metadata": {},
   "outputs": [
    {
     "name": "stdout",
     "output_type": "stream",
     "text": [
      "{'values': [112, 321, 4332, 12321], 'name': 'August'}\n",
      "{'values': [112, 321, 4332, 12321], 'name': 'August', 'result': 'Hey August! here is your sum = 17086'}\n",
      "Hey August! here is your sum = 17086\n"
     ]
    }
   ],
   "source": [
    "answer = app.invoke({\"values\": [112,321,4332,12321],\"name\" : \"August\"})\n",
    "\n",
    "print (answer[\"result\"]) # if u dont pass any value langgraph passes it as null values"
   ]
  },
  {
   "cell_type": "markdown",
   "metadata": {},
   "source": [
    "## Sequential Graph \n",
    "\n",
    "### this is used for building mutliple nodes that sequentially process and update different parts of the state ,invoking the graph to see how state is transformed step - by - step  and yeah this would give me the clarity to see how to create and handle multiple nodes "
   ]
  },
  {
   "cell_type": "code",
   "execution_count": 63,
   "metadata": {},
   "outputs": [],
   "source": [
    "class AgentState(TypedDict):\n",
    "    name: str\n",
    "    age: str \n",
    "    final: str\n"
   ]
  },
  {
   "cell_type": "code",
   "execution_count": 70,
   "metadata": {},
   "outputs": [],
   "source": [
    "def first_node ( state : AgentState) -> AgentState:\n",
    "    \"\"\" this is the first node of our sequence \"\"\"\n",
    "\n",
    "    state[\"final\"] = f'hi {state[\"name\"]}'\n",
    "\n",
    "    return state \n",
    "\n",
    "def second_node ( state : AgentState) -> AgentState:\n",
    "    \"\"\" this is the second node of our sequence \"\"\"\n",
    "\n",
    "    state[\"final\"] = state['final'] + f' you are  {state[\"age\"]} years old!'\n",
    "\n",
    "    return state \n"
   ]
  },
  {
   "cell_type": "code",
   "execution_count": 71,
   "metadata": {},
   "outputs": [],
   "source": [
    "graph2 = StateGraph(AgentState)\n",
    "\n",
    "graph2.add_node(\"first\", first_node)\n",
    "\n",
    "graph2.add_node(\"second\", second_node)\n",
    "\n",
    "graph2.set_entry_point(\"first\")\n",
    "\n",
    "graph2.add_edge(\"first\", \"second\")\n",
    "\n",
    "graph2.set_finish_point(\"second\")\n",
    "\n",
    "app = graph2.compile()\n",
    "\n",
    "\n",
    "\n",
    " "
   ]
  },
  {
   "cell_type": "code",
   "execution_count": 72,
   "metadata": {},
   "outputs": [
    {
     "data": {
      "image/png": "[encoded data removed]",
      "text/plain": [
       "<IPython.core.display.Image object>"
      ]
     },
     "metadata": {},
     "output_type": "display_data"
    }
   ],
   "source": [
    "from IPython.display import display, Image\n",
    "\n",
    "display(Image(app.get_graph().draw_mermaid_png()))"
   ]
  },
  {
   "cell_type": "code",
   "execution_count": 73,
   "metadata": {},
   "outputs": [
    {
     "name": "stdout",
     "output_type": "stream",
     "text": [
      "hi august you are  20 years old!\n"
     ]
    }
   ],
   "source": [
    "results2 = app.invoke({'name' : \"august\" , 'age' : 20})\n",
    "\n",
    "print(results2['final'])"
   ]
  },
  {
   "cell_type": "code",
   "execution_count": null,
   "metadata": {},
   "outputs": [],
   "source": []
  },
  {
   "cell_type": "code",
   "execution_count": null,
   "metadata": {},
   "outputs": [],
   "source": []
  }
 ],
 "metadata": {
  "kernelspec": {
   "display_name": "Python 3",
   "language": "python",
   "name": "python3"
  },
  "language_info": {
   "codemirror_mode": {
    "name": "ipython",
    "version": 3
   },
   "file_extension": ".py",
   "mimetype": "text/x-python",
   "name": "python",
   "nbconvert_exporter": "python",
   "pygments_lexer": "ipython3",
   "version": "3.11.8"
  }
 },
 "nbformat": 4,
 "nbformat_minor": 2
}
