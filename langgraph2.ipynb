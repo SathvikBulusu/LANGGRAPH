{
 "cells": [
  {
   "cell_type": "markdown",
   "metadata": {},
   "source": [
    "## June 17th \n",
    "\n",
    "### Today i am going to dive into taking multiple inputs through langraph using list , dictonaries "
   ]
  },
  {
   "cell_type": "code",
   "execution_count": 1,
   "metadata": {},
   "outputs": [],
   "source": [
    "from typing import TypedDict, List \n",
    "from langgraph.graph import StateGraph \n"
   ]
  },
  {
   "cell_type": "code",
   "execution_count": 2,
   "metadata": {},
   "outputs": [],
   "source": [
    "class multiagentstate(TypedDict):\n",
    "    values:List[int]\n",
    "    name: str \n",
    "    result : str # here we handling 3 diff datatype structures "
   ]
  },
  {
   "cell_type": "code",
   "execution_count": 25,
   "metadata": {},
   "outputs": [],
   "source": [
    "def process_values(state: multiagentstate) -> multiagentstate:\n",
    "    \"\"\" this handles different data structures \"\"\"\n",
    "\n",
    "    print(state)\n",
    "    state[\"result\"] = f'Hey {state[\"name\"]}! here is your sum = {sum(state[\"values\"])}'\n",
    "    print(state)\n",
    "    return state \n",
    "    "
   ]
  },
  {
   "cell_type": "code",
   "execution_count": 26,
   "metadata": {},
   "outputs": [],
   "source": [
    "graph = StateGraph(multiagentstate)\n",
    "\n",
    "graph.add_node(\"multiprocessor\",process_values)\n",
    "\n",
    "graph.set_entry_point(\"multiprocessor\")\n",
    "\n",
    "graph.set_finish_point(\"multiprocessor\")\n",
    "\n",
    "app = graph.compile()"
   ]
  },
  {
   "cell_type": "code",
   "execution_count": 27,
   "metadata": {},
   "outputs": [
    {
     "data": {
      "image/png": "[encoded data removed]",
      "text/plain": [
       "<IPython.core.display.Image object>"
      ]
     },
     "metadata": {},
     "output_type": "display_data"
    }
   ],
   "source": [
    "from IPython.display import display,Image\n",
    "\n",
    "display(Image(app.get_graph().draw_mermaid_png()))\n"
   ]
  },
  {
   "cell_type": "code",
   "execution_count": 29,
   "metadata": {},
   "outputs": [
    {
     "name": "stdout",
     "output_type": "stream",
     "text": [
      "{'values': [112, 321, 4332, 12321], 'name': 'August'}\n",
      "{'values': [112, 321, 4332, 12321], 'name': 'August', 'result': 'Hey August! here is your sum = 17086'}\n",
      "Hey August! here is your sum = 17086\n"
     ]
    }
   ],
   "source": [
    "answer = app.invoke({\"values\": [112,321,4332,12321],\"name\" : \"August\"})\n",
    "\n",
    "print (answer[\"result\"]) # if u dont pass any value langgraph passes it as null values"
   ]
  },
  {
   "cell_type": "markdown",
   "metadata": {},
   "source": [
    "## Sequential Graph \n",
    "\n",
    "### this is used for building mutliple nodes that sequentially process and update different parts of the state ,invoking the graph to see how state is transformed step - by - step  and yeah this would give me the clarity to see how to create and handle multiple nodes "
   ]
  },
  {
   "cell_type": "markdown",
   "metadata": {},
   "source": []
  }
 ],
 "metadata": {
  "kernelspec": {
   "display_name": "Python 3",
   "language": "python",
   "name": "python3"
  },
  "language_info": {
   "codemirror_mode": {
    "name": "ipython",
    "version": 3
   },
   "file_extension": ".py",
   "mimetype": "text/x-python",
   "name": "python",
   "nbconvert_exporter": "python",
   "pygments_lexer": "ipython3",
   "version": "3.11.8"
  }
 },
 "nbformat": 4,
 "nbformat_minor": 2
}
