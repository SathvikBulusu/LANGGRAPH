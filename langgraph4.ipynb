{
 "cells": [
  {
   "cell_type": "markdown",
   "metadata": {},
   "source": [
    "## 17th June getting into the next topic which is **Conditional Graph**\n",
    "\n",
    "### The objectives of this topic is pretty simple which is \n",
    "\n",
    "#### 1. implement logic to route of the flow of data , use start and end nodes to manage entry and exit points explicitly , design multiple nodes to perform diff ops ( + , * , - , / ) \n",
    "\n",
    "#### 2. create a router node to handle decision making and control graph flow \n",
    "\n",
    "#### the goal is to get used to add_conditional_edges()"
   ]
  },
  {
   "cell_type": "code",
   "execution_count": 1,
   "metadata": {},
   "outputs": [],
   "source": [
    "from typing import TypedDict\n",
    "from langgraph.graph import StateGraph, START , END "
   ]
  },
  {
   "cell_type": "code",
   "execution_count": 2,
   "metadata": {},
   "outputs": [],
   "source": [
    "class AgentStateC(TypedDict) :\n",
    "    num1: int \n",
    "    op : str \n",
    "    num2 : int \n",
    "    finalnum : int  "
   ]
  },
  {
   "cell_type": "code",
   "execution_count": 4,
   "metadata": {},
   "outputs": [],
   "source": [
    "def adder(state : AgentStateC) -> AgentStateC :\n",
    "    \"\"\" This node adds 2 numbers \"\"\"\n",
    "\n",
    "    state['finalnum'] = state['num1'] + state['num2']\n",
    "\n",
    "    return state \n",
    "\n",
    "def subtractor(state: AgentStateC) -> AgentStateC : \n",
    "    \"\"\" This node subtracts 2 numbers \"\"\"\n",
    "    \n",
    "    state['finalnum'] = state['num1'] - state['num2']\n",
    "\n",
    "    return state \n",
    "\n",
    "def decide_next_node(state: AgentStateC) -> AgentStateC : \n",
    "    \"\"\" this node will select next node of the graph \"\"\"\n",
    "\n",
    "    if state[\"op\"] == \"+\": \n",
    "        return \"addop\"\n",
    "    elif state[\"op\"] == \"-\": \n",
    "        return \"subop\""
   ]
  },
  {
   "cell_type": "code",
   "execution_count": 8,
   "metadata": {},
   "outputs": [],
   "source": [
    "graph = StateGraph(AgentStateC)\n",
    "\n",
    "graph.add_node(\"add_node\" , adder)\n",
    "\n",
    "graph.add_node(\"sub_node\", subtractor)\n",
    "\n",
    "graph.add_node(\"router\", lambda state:state) # your input state will be your output state  \n",
    "\n",
    "graph.add_edge(START , \"router\")\n",
    "\n",
    "graph.add_conditional_edges(\n",
    "\n",
    "    \"router\", # this is the start \n",
    "    decide_next_node,# this is the path , \n",
    "    {\n",
    "        \"addop\" : \"add_node\",\n",
    "        \"subop\" : \"sub_node\"\n",
    "    }\n",
    "\n",
    ")\n",
    "\n",
    "graph.add_edge(\"add_node\" , END)\n",
    "\n",
    "graph.add_edge(\"sub_node\", END)\n",
    "\n",
    "app = graph.compile()"
   ]
  },
  {
   "cell_type": "code",
   "execution_count": 9,
   "metadata": {},
   "outputs": [
    {
     "data": {
      "image/png": "[encoded data removed]",
      "text/plain": [
       "<IPython.core.display.Image object>"
      ]
     },
     "metadata": {},
     "output_type": "display_data"
    }
   ],
   "source": [
    "from IPython.display import display,Image\n",
    "\n",
    "display(Image(app.get_graph().draw_mermaid_png()))"
   ]
  },
  {
   "cell_type": "code",
   "execution_count": 11,
   "metadata": {},
   "outputs": [
    {
     "name": "stdout",
     "output_type": "stream",
     "text": [
      "{'num1': 12, 'op': '+', 'num2': 2122121, 'finalnum': 2122133}\n"
     ]
    }
   ],
   "source": [
    "result = AgentStateC(num1 = 12 , op = \"+\", num2 = 2122121)\n",
    "\n",
    "print(app.invoke(result))"
   ]
  },
  {
   "cell_type": "markdown",
   "metadata": {},
   "source": [
    "### the only thing thats actually making me confused is how he made the nodes different but the output and the edges they are the same so theres no need to be overwhelmed "
   ]
  },
  {
   "cell_type": "markdown",
   "metadata": {},
   "source": []
  }
 ],
 "metadata": {
  "kernelspec": {
   "display_name": "Python 3",
   "language": "python",
   "name": "python3"
  },
  "language_info": {
   "codemirror_mode": {
    "name": "ipython",
    "version": 3
   },
   "file_extension": ".py",
   "mimetype": "text/x-python",
   "name": "python",
   "nbconvert_exporter": "python",
   "pygments_lexer": "ipython3",
   "version": "3.11.8"
  }
 },
 "nbformat": 4,
 "nbformat_minor": 2
}
