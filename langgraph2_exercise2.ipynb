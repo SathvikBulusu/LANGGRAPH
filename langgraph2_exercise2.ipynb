{
 "cells": [
  {
   "cell_type": "code",
   "execution_count": 4,
   "metadata": {},
   "outputs": [],
   "source": [
    "from typing import TypedDict, List \n",
    "\n",
    "from langgraph.graph import StateGraph\n",
    "\n",
    "import math "
   ]
  },
  {
   "cell_type": "markdown",
   "metadata": {},
   "source": [
    "## Exercise :- create a graph , where u pass in a single list of integers along with a name and an operation , if operation is a \"+\", you add the elements and if it s a \"*\", you multiply the elements , all within the same node  "
   ]
  },
  {
   "cell_type": "code",
   "execution_count": 5,
   "metadata": {},
   "outputs": [],
   "source": [
    "class operationstate(TypedDict):\n",
    "    name1 : str \n",
    "    values1 :List[int]\n",
    "    result1 :str \n",
    "    op: str "
   ]
  },
  {
   "cell_type": "code",
   "execution_count": 7,
   "metadata": {},
   "outputs": [],
   "source": [
    "def opnode(state: operationstate) -> operationstate:\n",
    "    \"\"\" This handles the operations such as + , * for the following values \"\"\" \n",
    "\n",
    "    print(state)\n",
    "    #state[\"result1\"]= f'{state[\"name1\"]} , {state[\"values1\"]} , give the {state[\"operation\"]} u would like to use here : \"+\"/\"*\" '\n",
    "\n",
    "    if state[\"op\"] == \"*\": \n",
    "        state[\"result1\"] = f'{state[\"name1\"]}, your answer is {math.prod(state[\"values1\"])}'\n",
    "    elif state[\"op\"] == \"+\":\n",
    "        state[\"result\"] = f'{state[\"name1\"]}, your answer is {sum(state[\"values1\"])}'\n",
    "    else:\n",
    "        state[\"result\"] = \"invalid!!\"\n",
    "\n",
    "    return state "
   ]
  },
  {
   "cell_type": "code",
   "execution_count": 9,
   "metadata": {},
   "outputs": [],
   "source": [
    "graph1 = StateGraph(operationstate)\n",
    "\n",
    "graph1.add_node(\"operatorg\" , opnode)\n",
    "\n",
    "graph1.set_entry_point(\"operatorg\")\n",
    "graph1.set_finish_point(\"operatorg\")\n",
    "\n",
    "app = graph1.compile()\n",
    "\n",
    "\n",
    "\n",
    "\n"
   ]
  },
  {
   "cell_type": "code",
   "execution_count": 8,
   "metadata": {},
   "outputs": [
    {
     "data": {
      "image/png": "[encoded data removed]",
      "text/plain": [
       "<IPython.core.display.Image object>"
      ]
     },
     "metadata": {},
     "output_type": "display_data"
    }
   ],
   "source": [
    "from IPython.display import display , Image \n",
    "\n",
    "display(Image(app.get_graph().draw_mermaid_png()))\n"
   ]
  },
  {
   "cell_type": "code",
   "execution_count": 12,
   "metadata": {},
   "outputs": [
    {
     "name": "stdout",
     "output_type": "stream",
     "text": [
      "{'name1': 'chris', 'values1': [1121, 2321, 3544, 21312], 'op': '*'}\n"
     ]
    }
   ],
   "source": [
    "\n",
    "answers = app.invoke({\"name1\" : \"chris\" , \"values1\": [1121,2321,3544,21312] , \"op\":\"*\" })"
   ]
  },
  {
   "cell_type": "code",
   "execution_count": 14,
   "metadata": {},
   "outputs": [
    {
     "name": "stdout",
     "output_type": "stream",
     "text": [
      "chris, your answer is 196516343029248\n"
     ]
    }
   ],
   "source": [
    "print(answers[\"result1\"])"
   ]
  },
  {
   "cell_type": "code",
   "execution_count": null,
   "metadata": {},
   "outputs": [],
   "source": []
  }
 ],
 "metadata": {
  "kernelspec": {
   "display_name": "Python 3",
   "language": "python",
   "name": "python3"
  },
  "language_info": {
   "codemirror_mode": {
    "name": "ipython",
    "version": 3
   },
   "file_extension": ".py",
   "mimetype": "text/x-python",
   "name": "python",
   "nbconvert_exporter": "python",
   "pygments_lexer": "ipython3",
   "version": "3.11.8"
  }
 },
 "nbformat": 4,
 "nbformat_minor": 2
}
