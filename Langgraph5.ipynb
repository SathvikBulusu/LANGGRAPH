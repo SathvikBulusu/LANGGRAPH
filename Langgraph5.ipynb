{
 "cells": [
  {
   "cell_type": "markdown",
   "metadata": {},
   "source": [
    "## 20th June : Looping Graph \n",
    "\n",
    "implementing a looping logic to route the flow of data back to nodes :- this would be used with conditional edge to handle decision making and control the graph glow "
   ]
  },
  {
   "cell_type": "code",
   "execution_count": 3,
   "metadata": {},
   "outputs": [],
   "source": [
    "from typing import TypedDict , List , Dict\n",
    "import random \n",
    "from langgraph.graph import StateGraph , START , END"
   ]
  },
  {
   "cell_type": "code",
   "execution_count": 4,
   "metadata": {},
   "outputs": [],
   "source": [
    "class loopingstate(TypedDict) : \n",
    "    name:str \n",
    "    num : List[int]\n",
    "    counter : int "
   ]
  },
  {
   "cell_type": "code",
   "execution_count": 14,
   "metadata": {},
   "outputs": [],
   "source": [
    "def greet(state : loopingstate) -> loopingstate:\n",
    "    \"\"\" This is the greeting node \"\"\"\n",
    "\n",
    "    state[\"name\"] = f'hi there , {state[\"name\"]}'\n",
    "    state['counter'] = 0 #if user put -20 , then it puts it back to 0 \n",
    "\n",
    "    return state \n",
    "\n",
    "def randomnode(state : loopingstate) -> loopingstate:\n",
    "    \"\"\" this node generates random number from 0 to 10 \"\"\"\n",
    "    \n",
    "    state[\"num\"].append(random.randint(0,10))\n",
    "    state[\"counter\"] +=1 \n",
    "\n",
    "    return state \n",
    "\n",
    "def should_continue(state : loopingstate) -> loopingstate:\n",
    "    \"\"\"functioin to decide what to do next \"\"\"\n",
    "\n",
    "    if state[\"counter\"] < 5 : \n",
    "        print (\"entering loop \" , state['counter'])\n",
    "        return \"loop\" # continue looping \n",
    "\n",
    "    else : \n",
    "        return \"exit\" # exit loop \n"
   ]
  },
  {
   "cell_type": "code",
   "execution_count": 15,
   "metadata": {},
   "outputs": [],
   "source": [
    "# greeting -> random -> random -> random -> random -> End \n",
    "\n",
    "graph = StateGraph(loopingstate)\n",
    "\n",
    "graph.add_node(\"greeti\", greet)\n",
    "graph.add_node(\"random\",randomnode)\n",
    "graph.add_edge(\"greeti\", \"random\")\n",
    "\n",
    "graph.add_conditional_edges(\n",
    "    \"random\",\n",
    "    should_continue,\n",
    "    {\n",
    "        'loop' : 'random' , \n",
    "        \"exit\" : END\n",
    "    }\n",
    ")\n",
    "\n",
    "graph.set_entry_point(\"greeti\")\n",
    "\n",
    "app=graph.compile()\n",
    "\n",
    "\n"
   ]
  },
  {
   "cell_type": "code",
   "execution_count": 16,
   "metadata": {},
   "outputs": [
    {
     "data": {
      "image/png": "[encoded data removed]",
      "text/plain": [
       "<IPython.core.display.Image object>"
      ]
     },
     "metadata": {},
     "output_type": "display_data"
    }
   ],
   "source": [
    "from IPython.display import display, Image\n",
    "\n",
    "display(Image(app.get_graph().draw_mermaid_png()))"
   ]
  },
  {
   "cell_type": "code",
   "execution_count": 19,
   "metadata": {},
   "outputs": [
    {
     "name": "stdout",
     "output_type": "stream",
     "text": [
      "entering loop  1\n",
      "entering loop  2\n",
      "entering loop  3\n",
      "entering loop  4\n",
      "{'name': 'hi there , august', 'num': [0, 1, 10, 7, 7], 'counter': 5}\n"
     ]
    }
   ],
   "source": [
    "result = app.invoke({\"name\" : \"august\" , \"num\" : [] , \"counter\" : -1010101})\n",
    "\n",
    "print(result)\n",
    "\n"
   ]
  },
  {
   "cell_type": "code",
   "execution_count": null,
   "metadata": {},
   "outputs": [],
   "source": []
  }
 ],
 "metadata": {
  "kernelspec": {
   "display_name": "Python 3",
   "language": "python",
   "name": "python3"
  },
  "language_info": {
   "codemirror_mode": {
    "name": "ipython",
    "version": 3
   },
   "file_extension": ".py",
   "mimetype": "text/x-python",
   "name": "python",
   "nbconvert_exporter": "python",
   "pygments_lexer": "ipython3",
   "version": "3.11.8"
  }
 },
 "nbformat": 4,
 "nbformat_minor": 2
}
